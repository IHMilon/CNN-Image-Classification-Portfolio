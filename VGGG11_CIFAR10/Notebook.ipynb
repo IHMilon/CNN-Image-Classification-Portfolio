{
  "nbformat": 4,
  "nbformat_minor": 0,
  "metadata": {
    "colab": {
      "provenance": [],
      "gpuType": "T4",
      "authorship_tag": "ABX9TyMcgi+eoe7LWerA0xv+tJ71",
      "include_colab_link": true
    },
    "kernelspec": {
      "name": "python3",
      "display_name": "Python 3"
    },
    "language_info": {
      "name": "python"
    },
    "accelerator": "GPU"
  },
  "cells": [
    {
      "cell_type": "markdown",
      "metadata": {
        "id": "view-in-github",
        "colab_type": "text"
      },
      "source": [
        "<a href=\"https://colab.research.google.com/github/IHMilon/CNN-Image-Classification-Portfolio/blob/main/VGGG11_CIFAR10/Notebook.ipynb\" target=\"_parent\"><img src=\"https://colab.research.google.com/assets/colab-badge.svg\" alt=\"Open In Colab\"/></a>"
      ]
    },
    {
      "cell_type": "markdown",
      "source": [
        "# **Image Classification with VGG-like Architecture**\n",
        "---\n",
        "In this project, I implement a **VGG-style CNN** from scratch and train it on the *CIFAR-10* dataset.  \n",
        "\n",
        "- Dataset: CIFAR-10 (60,000 images, 10 classes, 32×32 pixels)  \n",
        "- Model: Custom VGG-inspired architecture  \n",
        "- Goal: Achieve high classification accuracy with proper training pipeline"
      ],
      "metadata": {
        "id": "Wg2p00J4ENR3"
      }
    },
    {
      "cell_type": "markdown",
      "source": [
        "## **Package Installation**"
      ],
      "metadata": {
        "id": "xi0MkvtoEY1_"
      }
    },
    {
      "cell_type": "code",
      "source": [
        "!pip install torchprofile 1>/dev/null"
      ],
      "metadata": {
        "id": "hfngIyoDEejf"
      },
      "execution_count": 1,
      "outputs": []
    },
    {
      "cell_type": "markdown",
      "source": [
        "## **Import Dependencies**"
      ],
      "metadata": {
        "id": "d6y8gc2ZEjGe"
      }
    },
    {
      "cell_type": "code",
      "source": [
        "import os\n",
        "import random\n",
        "import time\n",
        "import numpy as np\n",
        "from matplotlib import pyplot as plt\n",
        "import seaborn as sns\n",
        "from torchprofile import profile_macs\n",
        "from sklearn.metrics import confusion_matrix\n",
        "from tqdm.auto import tqdm\n",
        "from PIL import Image\n",
        "\n",
        "\n",
        "import torch\n",
        "import torchvision\n",
        "from torch import nn\n",
        "import torch.optim as optim\n",
        "from torchvision import transforms\n",
        "from torch.utils.data import DataLoader\n",
        "from torch.amp import autocast, GradScaler\n",
        "from torch.optim.lr_scheduler import OneCycleLR"
      ],
      "metadata": {
        "id": "NlOfIwZMEnES"
      },
      "execution_count": 2,
      "outputs": []
    },
    {
      "cell_type": "markdown",
      "source": [
        "##  **Reproducibility**"
      ],
      "metadata": {
        "id": "9BaJnRLUEq0D"
      }
    },
    {
      "cell_type": "code",
      "source": [
        "seed_value = 10\n",
        "torch.manual_seed(seed_value)\n",
        "np.random.seed(seed_value)\n",
        "random.seed(seed_value)\n",
        "torch.cuda.manual_seed_all(seed_value)"
      ],
      "metadata": {
        "id": "eX2Ad4jYEu6C"
      },
      "execution_count": 3,
      "outputs": []
    },
    {
      "cell_type": "markdown",
      "source": [
        "## **Device Setup**"
      ],
      "metadata": {
        "id": "-AYgM6euEyc5"
      }
    },
    {
      "cell_type": "code",
      "source": [
        "device = torch.device('cuda'if torch.cuda.is_available() else 'cpu')\n",
        "print(f\"Device is : {device}\")"
      ],
      "metadata": {
        "colab": {
          "base_uri": "https://localhost:8080/"
        },
        "id": "KIhZqjbiE1r_",
        "outputId": "3198b574-3107-49d2-ffb0-6270459a8354"
      },
      "execution_count": 4,
      "outputs": [
        {
          "output_type": "stream",
          "name": "stdout",
          "text": [
            "Device is : cuda\n"
          ]
        }
      ]
    },
    {
      "cell_type": "markdown",
      "source": [
        "## **Data Augmentation**\n",
        "*To improve generalization, I apply some common image transformations to the CIFAR-10 training set. The test set is only converted to Tensor.*"
      ],
      "metadata": {
        "id": "mL6pK4E5E5XR"
      }
    },
    {
      "cell_type": "code",
      "source": [
        "train_transform = transforms.Compose([\n",
        "    transforms.RandomCrop(32, padding=5),\n",
        "    transforms.RandomHorizontalFlip(),\n",
        "    transforms.RandomRotation(10),\n",
        "    transforms.ToTensor(),\n",
        "])\n",
        "\n",
        "test_transform = transforms.Compose([\n",
        "    transforms.ToTensor(),\n",
        "])"
      ],
      "metadata": {
        "id": "aDkEqd2pE-Oz"
      },
      "execution_count": 5,
      "outputs": []
    },
    {
      "cell_type": "markdown",
      "source": [
        "## **Loading the CIFAR-10 Dataset**\n",
        "\n",
        "We use the **torchvision's CIFAR-10 dataset** which contains **60,000 color images (32×32 pixels) across 10 classes**.\n",
        "\n",
        "- **Training Set:** *50,000 images (with data augmentation)*\n",
        "- **Test Set:** *10,000 images (for evaluation)*"
      ],
      "metadata": {
        "id": "NPooldiVFBPl"
      }
    },
    {
      "cell_type": "code",
      "source": [
        "train_data = torchvision.datasets.CIFAR10(root='./data', train = True, download = True, transform = train_transform)\n",
        "train_loader = DataLoader(train_data, batch_size = 128, shuffle = True, pin_memory = True)\n",
        "\n",
        "test_data = torchvision.datasets.CIFAR10(root='./data', train = False, download = True, transform = test_transform)\n",
        "test_loader = DataLoader(test_data, batch_size = 128, shuffle = False, pin_memory= True)"
      ],
      "metadata": {
        "colab": {
          "base_uri": "https://localhost:8080/"
        },
        "id": "Ky5YwPHfFEtV",
        "outputId": "ec8349e1-152f-4fe1-fc24-d8373e59a191"
      },
      "execution_count": 6,
      "outputs": [
        {
          "output_type": "stream",
          "name": "stderr",
          "text": [
            "100%|██████████| 170M/170M [00:13<00:00, 12.6MB/s]\n"
          ]
        }
      ]
    },
    {
      "cell_type": "markdown",
      "source": [
        "## **Inspect Training Batch**\n",
        "*we can verify the data type and shape of the train loader*"
      ],
      "metadata": {
        "id": "Gc2NkBgjFK7k"
      }
    },
    {
      "cell_type": "code",
      "source": [
        "for images, targets in train_loader:\n",
        "    print(f\"Images shape: {images.shape}, and dtype: {images.dtype}\")\n",
        "    print(f\"Targets shape: {targets.shape}, and dtype: {targets.dtype}\")\n",
        "    break"
      ],
      "metadata": {
        "colab": {
          "base_uri": "https://localhost:8080/"
        },
        "id": "2CI6OXK-FOc-",
        "outputId": "b03aa425-1949-44a0-b27a-ca6fa70cd6e0"
      },
      "execution_count": 7,
      "outputs": [
        {
          "output_type": "stream",
          "name": "stdout",
          "text": [
            "Images shape: torch.Size([128, 3, 32, 32]), and dtype: torch.float32\n",
            "Targets shape: torch.Size([128]), and dtype: torch.int64\n"
          ]
        }
      ]
    },
    {
      "cell_type": "markdown",
      "source": [
        "## **Defining the Model**\n",
        "\n",
        "We implement a **VGG-inspired CNN** where:\n",
        "- **Backbone:** Composed of eight `conv-bn-relu` blocks interleaved with four `maxpool`'s to downsample the feature map by 2^4 = 16 times.\n",
        "\n",
        "- **Classifier:** Uses **two fc (linear) layers** for final prediction."
      ],
      "metadata": {
        "id": "vuqAwErfFRO2"
      }
    },
    {
      "cell_type": "code",
      "source": [
        "class VGGM (nn.Module):\n",
        "    def __init__(self) -> None:\n",
        "        super().__init__()\n",
        "        self.backbone = nn.Sequential(\n",
        "              # Block 1\n",
        "              nn.Conv2d(3, 64, kernel_size = 3, padding = 1),\n",
        "              nn.BatchNorm2d(64),\n",
        "              nn.ReLU(),\n",
        "              nn.Conv2d(64, 64, kernel_size = 3, padding = 1),\n",
        "              nn.BatchNorm2d(64),\n",
        "              nn.ReLU(),\n",
        "              nn.MaxPool2d(2), #(B,64,16,16)\n",
        "\n",
        "              # Block 2\n",
        "              nn.Conv2d(64, 128, kernel_size = 3, padding = 1),\n",
        "              nn.BatchNorm2d(128),\n",
        "              nn.ReLU(),\n",
        "              nn.Conv2d(128, 128, kernel_size = 3, padding = 1),\n",
        "              nn.BatchNorm2d(128),\n",
        "              nn.ReLU(),\n",
        "              nn.MaxPool2d(2),  #(B,128,8,8)\n",
        "\n",
        "              # Block 3\n",
        "              nn.Conv2d(128, 256, kernel_size = 3, padding = 1),\n",
        "              nn.BatchNorm2d(256),\n",
        "              nn.ReLU(),\n",
        "              nn.Conv2d(256, 256, kernel_size =3, padding = 1),\n",
        "              nn.BatchNorm2d(256),\n",
        "              nn.ReLU(),\n",
        "              nn.MaxPool2d(2),  #(B,256,4,4)\n",
        "\n",
        "              # Block 4\n",
        "              nn.Conv2d(256, 512, kernel_size = 3, padding = 1),\n",
        "              nn.BatchNorm2d(512),\n",
        "              nn.ReLU(),\n",
        "              nn.Conv2d(512, 512, kernel_size = 3, padding = 1),\n",
        "              nn.BatchNorm2d(512),\n",
        "              nn.ReLU(),\n",
        "              nn.MaxPool2d(2)  #(B,512,2,2)\n",
        "              )\n",
        "\n",
        "        # Classifier\n",
        "        self.classifier = nn.Sequential(\n",
        "              nn.Linear(512, 128),\n",
        "              nn.BatchNorm1d(128),\n",
        "              nn.ReLU(),\n",
        "              nn.Dropout(0.5),\n",
        "              nn.Linear(128, 10)\n",
        "              )\n",
        "\n",
        "    def forward(self, x):\n",
        "        # Backbone: (B, 3, 32, 32) --> (B, 512, 2, 2)\n",
        "        x = self.backbone(x)\n",
        "\n",
        "        # Avgpool: (B, 512, 2, 2) -->(B, 512)\n",
        "        x = x.mean(dim=(2,3))\n",
        "\n",
        "        # Classifier: (B, 512) --> (B, 10)\n",
        "        x = self.classifier(x)\n",
        "        return x\n",
        "\n",
        "model = VGGM().to(device)"
      ],
      "metadata": {
        "id": "1KzvIL0CFU_w"
      },
      "execution_count": 8,
      "outputs": []
    },
    {
      "cell_type": "markdown",
      "source": [
        "## **Model Size**\n",
        "The model size can be estimated by the number of trainable parameters:"
      ],
      "metadata": {
        "id": "Hr3zg4SYFZM7"
      }
    },
    {
      "cell_type": "code",
      "source": [
        "total_params = 0\n",
        "for params in model.parameters():\n",
        "    if params.requires_grad:\n",
        "       total_params += params.numel()\n",
        "print(f\" Total Parameters is: {total_params/1000000:.2f} Millon\")"
      ],
      "metadata": {
        "colab": {
          "base_uri": "https://localhost:8080/"
        },
        "id": "IdQg_d9DFeEW",
        "outputId": "d32c81c9-b9ed-41ee-dd3e-9d0c0dcac1ff"
      },
      "execution_count": 9,
      "outputs": [
        {
          "output_type": "stream",
          "name": "stdout",
          "text": [
            " Total Parameters is: 4.76 Millon\n"
          ]
        }
      ]
    },
    {
      "cell_type": "markdown",
      "source": [
        "## **Computational Cost**\n",
        "\n",
        "The computation cost can be estimated by the number of multiply–accumulate operations (MACs):"
      ],
      "metadata": {
        "id": "-k5IVnSXFhe7"
      }
    },
    {
      "cell_type": "code",
      "source": [
        "x = torch.ones(1, 3, 32, 32).to(device)\n",
        "model.eval() # Set the model to evaluation mode\n",
        "macs = profile_macs(model, x)\n",
        "print(f\"Total number of MACs is: {macs/1000000:.2f} Million\")"
      ],
      "metadata": {
        "colab": {
          "base_uri": "https://localhost:8080/"
        },
        "id": "aPCTvPAbFke9",
        "outputId": "bdc9cf91-28a5-4608-bca8-2a759862ed9b"
      },
      "execution_count": 10,
      "outputs": [
        {
          "output_type": "stream",
          "name": "stdout",
          "text": [
            "Total number of MACs is: 209.70 Million\n"
          ]
        }
      ]
    },
    {
      "cell_type": "markdown",
      "source": [
        "## **Training Setup**\n",
        "We use `CrossEntropyLoss` as the loss function, `AdamW` optimizer with weight decay for regularization, and the `OneCycleLR` scheduler for dynamic learning rate adjustment.\n",
        "Also Training is performed with `mixed precision` to accelerate computations and reduce GPU memory usage, following best practices in modern deep learning workflows."
      ],
      "metadata": {
        "id": "bWnmE_G2Fnly"
      }
    },
    {
      "cell_type": "code",
      "source": [
        "Epochs = 25\n",
        "\n",
        "# loss function\n",
        "criterion = nn.CrossEntropyLoss()\n",
        "\n",
        "# optimizer\n",
        "optimizer = optim.AdamW(model.parameters(), lr = 1e-3, weight_decay = 5e-4)\n",
        "\n",
        "# LR Scheduler (OneCycleLR)\n",
        "scheduler = OneCycleLR(optimizer,\n",
        "            max_lr = 0.01,\n",
        "            steps_per_epoch = len(train_loader),\n",
        "            epochs = Epochs\n",
        "            )\n",
        "\n",
        "# Initialize the scaler\n",
        "scaler = GradScaler('cuda')"
      ],
      "metadata": {
        "id": "TIRLeNbAFqp_"
      },
      "execution_count": 11,
      "outputs": []
    },
    {
      "cell_type": "markdown",
      "source": [
        "## **Model Training**\n",
        "\n",
        "The VGG-like network is trained on **CIFAR-10** using **mixed precision** (`torch.amp`) for efficiency.  \n",
        "Each epoch includes:  \n",
        "\n",
        "- Forward pass with automatic loss scaling  \n",
        "- Backpropagation\n",
        "- Optimizer updates with learning rate scheduling  \n",
        "- Validation after each epoch to monitor generalization."
      ],
      "metadata": {
        "id": "B3Jz546RFuSU"
      }
    },
    {
      "cell_type": "code",
      "source": [
        "train_losses, train_accs = [], []\n",
        "test_losses, test_accs =[], []\n",
        "\n",
        "# Getting training time\n",
        "start_time = time.time()\n",
        "\n",
        "for epoch in tqdm(range(1, Epochs+1), desc = \"Epochs\"):\n",
        "\n",
        "    # Training loop\n",
        "    model.train()\n",
        "\n",
        "    # Training matrices\n",
        "    train_loss = 0\n",
        "    num_samples = 0\n",
        "    num_correct = 0\n",
        "\n",
        "    for images, labels in train_loader:\n",
        "        # Move data to the GPU\n",
        "        images, labels = images.to(device), labels.to(device)\n",
        "\n",
        "        # Zero out gradients\n",
        "        optimizer.zero_grad()\n",
        "\n",
        "        # Forward pass with Mixed Precision\n",
        "        with autocast('cuda'):\n",
        "            outputs = model(images)\n",
        "            loss = criterion(outputs, labels)\n",
        "\n",
        "        # scale the loss and calculate the gradiants\n",
        "        scaler.scale(loss).backward()\n",
        "        scaler.step(optimizer)\n",
        "        scaler.update()\n",
        "\n",
        "        # update the learning rate after each batch\n",
        "        scheduler.step()\n",
        "\n",
        "        # convert logits to class indices\n",
        "        predictions = outputs.argmax(dim=1)\n",
        "\n",
        "        # update the training matrices\n",
        "        train_loss += loss.item()\n",
        "        num_samples += labels.size(0)\n",
        "        num_correct += (predictions == labels).sum().item()\n",
        "\n",
        "    # training accuracy and losses\n",
        "    train_acc = (num_correct/num_samples)*100\n",
        "    train_losses.append(train_loss/len(train_loader))\n",
        "    train_accs.append(train_acc)\n",
        "\n",
        "\n",
        "    # validation loop\n",
        "    model.eval()\n",
        "\n",
        "    # test matrices\n",
        "    test_loss = 0\n",
        "    test_samples = 0\n",
        "    test_correct = 0\n",
        "\n",
        "    with torch.no_grad():\n",
        "        for images, labels in test_loader:\n",
        "            images, labels = images.to(device), labels.to(device)\n",
        "            outputs = model(images)\n",
        "            loss = criterion (outputs, labels)\n",
        "\n",
        "            # Convert logits to class indecies\n",
        "            predictions = outputs.argmax(dim=1)\n",
        "\n",
        "            # update test matrices\n",
        "            test_loss += loss.item()\n",
        "            test_samples += labels.size(0)\n",
        "            test_correct += (predictions == labels).sum().item()\n",
        "\n",
        "        # Testing Accuracies and losses\n",
        "        test_acc = (test_correct / test_samples)*100\n",
        "        test_losses.append(test_loss/len(test_loader))\n",
        "        test_accs.append(test_acc)\n",
        "\n",
        "# Final model performance matrices\n",
        "print(f\"Training loss {train_losses[-1]:.3f}, Train Accuracy {train_accs[-1]:.2f}%\")\n",
        "print(f\"Test loss { test_losses[-1]:.3f}, Test Accuracy {test_accs[-1]:.2f}%\")\n",
        "\n",
        "# Calculate the Training Time\n",
        "end_time = time.time()\n",
        "total_time = end_time - start_time\n",
        "print(f\"\\nTotal time to train the model is {(total_time/60):.2f} Minutes\")"
      ],
      "metadata": {
        "id": "z9p3W2qAFxiZ"
      },
      "execution_count": null,
      "outputs": []
    },
    {
      "cell_type": "markdown",
      "source": [
        "## **Training & Validation Loss/Accuracy**"
      ],
      "metadata": {
        "id": "LU7WOJ0SF3Zx"
      }
    },
    {
      "cell_type": "code",
      "source": [
        "epoch_range = range(1,Epochs+1)\n",
        "plt.figure(figsize=(20,8))\n",
        "\n",
        "# Plot the Train and Val loss\n",
        "plt.subplot(1,2,1)\n",
        "plt.plot(epoch_range, train_losses, label = \"Train Loss\",marker='o')\n",
        "plt.plot(epoch_range, test_losses, label = \"Val Loss\", marker='o')\n",
        "plt.xlabel(\"Epochs\")\n",
        "plt.ylabel(\"Loss\")\n",
        "plt.title(\"Training vs Validation Loss\")\n",
        "plt.legend()\n",
        "plt.grid(True)\n",
        "\n",
        "# Plot the Train and Val Accuracy\n",
        "plt.subplot(1,2,2)\n",
        "plt.plot(epoch_range, train_accs, label = \"Train Acc\",marker='o')\n",
        "plt.plot(epoch_range, test_accs, label = \"Val Accs\",marker='o')\n",
        "plt.xlabel(\"Epochs\")\n",
        "plt.ylabel(\"Accuracy\")\n",
        "plt.title(\"Training vs Validation Accuracy\")\n",
        "plt.legend()\n",
        "plt.grid(True)\n",
        "\n",
        "plt.show()"
      ],
      "metadata": {
        "id": "fyRVSonuF8un"
      },
      "execution_count": null,
      "outputs": []
    },
    {
      "cell_type": "markdown",
      "source": [
        "## **Visualization**\n",
        "We can visualize the model's prediction to see how the model truly performs:"
      ],
      "metadata": {
        "id": "s2sRiWD2GAtX"
      }
    },
    {
      "cell_type": "code",
      "source": [
        "plt.figure(figsize=(20,5))\n",
        "\n",
        "for i in range(20):\n",
        "    image, label = test_data[i]\n",
        "\n",
        "    # Model inference\n",
        "    model.eval()\n",
        "    with torch.inference_mode():\n",
        "         pred = model(image.unsqueeze(dim=0).to(device))\n",
        "         pred = pred.argmax(dim = 1)\n",
        "\n",
        "    # Convert CHW to HWC for visualization\n",
        "    image = image.permute(1,2,0)\n",
        "\n",
        "    # Convert class label to class name\n",
        "    label = test_data.classes[label]\n",
        "    pred = test_data.classes[pred]\n",
        "\n",
        "    # Visualize the images\n",
        "    plt.subplot(2, 10, i+1)\n",
        "    plt.imshow(image)\n",
        "    plt.title(f\"Pred: {pred}\"+ \"\\n\" + f\" Label: {label}\")\n",
        "    plt.axis('off')\n",
        "plt.show()"
      ],
      "metadata": {
        "id": "H2gdNgylGE-p"
      },
      "execution_count": null,
      "outputs": []
    },
    {
      "cell_type": "markdown",
      "source": [
        "## **Confusion Matrix**\n",
        "It visualizes the model's performance on the testset. And helps to identify which classes the model confuses the most."
      ],
      "metadata": {
        "id": "yuWeWWFdGLN7"
      }
    },
    {
      "cell_type": "code",
      "source": [
        "# Collect predictions and true labels\n",
        "true_labels = []\n",
        "predictions = []\n",
        "\n",
        "model.eval()\n",
        "with torch.inference_mode():\n",
        "    for images, labels in test_loader:\n",
        "        images, labels = images.to(device), labels.to(device)\n",
        "        outputs = model(images)\n",
        "        pred = outputs.argmax(dim=1)\n",
        "        true_labels.extend(labels.cpu().numpy())\n",
        "        predictions.extend(pred.cpu().numpy())\n",
        "\n",
        "# Compute confusion matrix\n",
        "matrix = confusion_matrix(true_labels, predictions)\n",
        "\n",
        "# Get class name from label index\n",
        "class_name = test_data.classes\n",
        "\n",
        "# Plot heatmap\n",
        "plt.figure(figsize=(10,8))\n",
        "sns.heatmap(matrix, annot=True, fmt='d', xticklabels=class_name, yticklabels=class_name, cmap='Blues')\n",
        "plt.xlabel('Predicted')\n",
        "plt.ylabel('Actual')\n",
        "plt.title('Confusion Matrix')\n",
        "plt.show()"
      ],
      "metadata": {
        "id": "2fx3aapRGRCe"
      },
      "execution_count": null,
      "outputs": []
    }
  ]
}